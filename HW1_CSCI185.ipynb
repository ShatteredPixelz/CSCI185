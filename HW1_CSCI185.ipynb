{
  "nbformat": 4,
  "nbformat_minor": 0,
  "metadata": {
    "colab": {
      "provenance": []
    },
    "kernelspec": {
      "name": "python3",
      "display_name": "Python 3"
    },
    "language_info": {
      "name": "python"
    }
  },
  "cells": [
    {
      "cell_type": "code",
      "execution_count": 6,
      "metadata": {
        "colab": {
          "base_uri": "https://localhost:8080/"
        },
        "id": "H16uVJwUqq3U",
        "outputId": "1bf170b5-bac9-4c53-a9d7-7fce8fe3f048"
      },
      "outputs": [
        {
          "output_type": "stream",
          "name": "stdout",
          "text": [
            "[1, 2, 3, 4, 5]\n"
          ]
        }
      ],
      "source": [
        "#Q1\n",
        "def task1():\n",
        "    items = [1, 2, 3, 4, 5]\n",
        "    print(items)\n",
        "\n",
        "task1()"
      ]
    },
    {
      "cell_type": "code",
      "source": [
        "#Q2\n",
        "def task2():\n",
        "    with open('task2.data', 'r') as f:\n",
        "        data = f.read()\n",
        "    items = data.split()\n",
        "    items1 = [int(x) for x in items[:5]]\n",
        "    items2 = [int(x) for x in items[5:]]\n",
        "    print(items1)\n",
        "    print(items2)\n",
        "\n",
        "task2()"
      ],
      "metadata": {
        "colab": {
          "base_uri": "https://localhost:8080/"
        },
        "id": "eOHEGTL7rZGH",
        "outputId": "617e6fa4-cd8d-4584-8285-5a3f94187764"
      },
      "execution_count": 11,
      "outputs": [
        {
          "output_type": "stream",
          "name": "stdout",
          "text": [
            "[1, 2, 3, 4, 5]\n",
            "[6, 7, 8, 9, 10]\n"
          ]
        }
      ]
    },
    {
      "cell_type": "code",
      "source": [
        "#Q3\n",
        "def task3():\n",
        "    data = dict()\n",
        "    data['school'] = 'UAlbany'\n",
        "    data['address'] = '1400 Washington Ave, Albany, NY 12222'\n",
        "    data['phone'] = '(518) 442-3300'\n",
        "    print(\"data print stuff\")\n",
        "    for key, value in data.items():\n",
        "        print(f\"{key}: {value}\")\n",
        "\n",
        "    data2 = {'school': 'UAlbany', 'address': '1400 Washington Ave, Albany, NY 12222', 'phone': '(518) 442-3300'}\n",
        "    print(\"data2 print stuff\")\n",
        "    for key, value in data2.items():\n",
        "        print(f\"{key}: {value}\")\n",
        "\n",
        "task3()"
      ],
      "metadata": {
        "colab": {
          "base_uri": "https://localhost:8080/"
        },
        "id": "E9wtG2yCsTjL",
        "outputId": "fa30e6b4-7f7d-456a-f5a4-dc45aa7b112d"
      },
      "execution_count": 14,
      "outputs": [
        {
          "output_type": "stream",
          "name": "stdout",
          "text": [
            "data print stuff\n",
            "school: UAlbany\n",
            "address: 1400 Washington Ave, Albany, NY 12222\n",
            "phone: (518) 442-3300\n",
            "data2 print stuff\n",
            "school: UAlbany\n",
            "address: 1400 Washington Ave, Albany, NY 12222\n",
            "phone: (518) 442-3300\n"
          ]
        }
      ]
    },
    {
      "cell_type": "code",
      "source": [
        "#Q4\n",
        "import json\n",
        "\n",
        "def task4():\n",
        "    data = {'school': 'UAlbany', 'address': '1400 Washington Ave, Albany, NY 12222', 'phone': '(518) 442-3300'}\n",
        "\n",
        "    with open('task4.json', 'w') as f:\n",
        "        json.dump(data, f)\n",
        "\n",
        "    with open('task4.json', 'r') as f:\n",
        "        data_loaded = json.load(f)\n",
        "\n",
        "    for key, value in data_loaded.items():\n",
        "        print(f\"{key}: {value}\")\n",
        "\n",
        "task4()"
      ],
      "metadata": {
        "colab": {
          "base_uri": "https://localhost:8080/"
        },
        "id": "YRGIYNEAsUpi",
        "outputId": "b79acc7b-e7d6-402f-fa69-47a7581f9c3e"
      },
      "execution_count": 17,
      "outputs": [
        {
          "output_type": "stream",
          "name": "stdout",
          "text": [
            "school: UAlbany\n",
            "address: 1400 Washington Ave, Albany, NY 12222\n",
            "phone: (518) 442-3300\n"
          ]
        }
      ]
    },
    {
      "cell_type": "code",
      "source": [
        "#Q5\n",
        "import json\n",
        "\n",
        "def task5():\n",
        "    data = {'school': 'UAlbany', 'address': '1400 Washington Ave, Albany, NY 12222', 'phone': '(518) 442-3300'}\n",
        "    items = [1, 2, 3, 4, 5]\n",
        "\n",
        "    with open('task5.data', 'w') as f:\n",
        "        json.dump((data, items), f)\n",
        "\n",
        "    with open('task5.data', 'r') as f:\n",
        "        data_loaded, items_loaded = json.load(f)\n",
        "\n",
        "    for key, value in data_loaded.items():\n",
        "        print(f\"{key}: {value}\")\n",
        "\n",
        "    print(items_loaded)\n",
        "\n",
        "task5()"
      ],
      "metadata": {
        "colab": {
          "base_uri": "https://localhost:8080/"
        },
        "id": "n-vycwldvTSo",
        "outputId": "f83e2391-b65a-402c-c167-d5eca7d8a986"
      },
      "execution_count": 20,
      "outputs": [
        {
          "output_type": "stream",
          "name": "stdout",
          "text": [
            "school: UAlbany\n",
            "address: 1400 Washington Ave, Albany, NY 12222\n",
            "phone: (518) 442-3300\n",
            "[1, 2, 3, 4, 5]\n"
          ]
        }
      ]
    },
    {
      "cell_type": "code",
      "source": [
        "import json\n",
        "\n",
        "def task6():\n",
        "    with open(\"CrimeReport.txt\", \"r\") as f:\n",
        "        tweets = f.readlines()\n",
        "    for tweet in tweets:\n",
        "        tweet_data = json.loads(tweet)\n",
        "        print(tweet_data[\"id\"])\n",
        "\n",
        "task6()"
      ],
      "metadata": {
        "colab": {
          "base_uri": "https://localhost:8080/"
        },
        "id": "zv3ysbfxx9IW",
        "outputId": "daaa2742-8ad0-478a-8431-24e6bd401a6b"
      },
      "execution_count": 22,
      "outputs": [
        {
          "output_type": "stream",
          "name": "stdout",
          "text": [
            "429129916446031872\n",
            "429117247307923456\n",
            "429315798893461505\n",
            "429079910091476992\n",
            "429030956888899584\n",
            "429152645702352896\n",
            "429016075921940481\n",
            "428898232690044928\n",
            "428956892602191873\n",
            "429111068368326656\n",
            "429167217976958976\n",
            "429379822314614785\n",
            "429235096919359488\n",
            "428986795586383872\n",
            "429238790310203392\n",
            "429509723516194817\n",
            "429509617756811264\n",
            "429509135437017089\n",
            "429509033045659648\n",
            "429508763708817408\n",
            "429508217303875584\n",
            "429508122604883969\n",
            "429507949934157824\n",
            "429507930975510528\n",
            "429507700716613632\n",
            "429507388056412160\n",
            "429507387393703936\n",
            "429507291763576832\n",
            "429506469214437376\n",
            "429506433801924608\n",
            "429506012626702336\n",
            "429505339621662720\n",
            "429505236148174848\n",
            "429505189544878081\n",
            "429505128605818880\n",
            "429505116433956864\n",
            "429504618939158528\n",
            "429503319321493504\n",
            "429503199959986177\n",
            "429502545145237504\n",
            "429502437460680704\n",
            "429502289481449472\n",
            "429502207763836929\n",
            "429502122015481856\n",
            "429501723934461952\n",
            "429501695442186240\n",
            "429501574805585920\n",
            "429501521940598784\n",
            "429501272786354176\n",
            "429501173670739968\n",
            "429500659553931264\n",
            "429500626821996544\n",
            "429500250303111168\n",
            "429499974507061248\n",
            "429499957083897856\n",
            "429499927874789376\n",
            "429499891593658368\n",
            "429499566778351616\n",
            "429499480954531841\n",
            "429499000081760256\n",
            "429498405837369344\n",
            "429498397167734784\n",
            "429497948267765760\n",
            "429497921277415426\n",
            "429497098531115008\n",
            "429496907191181312\n",
            "429496260790206467\n",
            "429496119207272448\n",
            "429495848548847616\n",
            "429495195319951361\n",
            "429495172859060224\n",
            "429494325622222848\n",
            "429493745243799552\n",
            "429493724763389953\n",
            "429493689216679936\n",
            "429493026323300352\n",
            "429492585606807552\n",
            "429492578195472384\n",
            "429492510801420288\n",
            "429492212674478080\n",
            "429491944268374016\n",
            "429491406961250305\n",
            "429490875685556224\n",
            "429489676513054720\n",
            "429489649082314752\n",
            "429489638408220672\n",
            "429489636746878976\n",
            "429489636444884992\n",
            "429489636423897090\n",
            "429489636386144256\n",
            "429489380147740672\n",
            "429488933169147904\n",
            "429488616197193730\n",
            "429488467572056064\n",
            "429488175862808576\n",
            "429488126608678912\n",
            "429487461878992897\n",
            "429487155757330432\n",
            "429487042423033856\n",
            "429486947955146752\n",
            "429486365659906048\n",
            "429485718771990528\n",
            "429485563507654656\n",
            "429485059242856448\n",
            "429484915839991808\n",
            "429484743227625472\n",
            "429484226082525184\n",
            "429484187171971072\n",
            "429483997932949504\n",
            "429483743066091521\n",
            "429483488165654528\n",
            "429482862300397568\n",
            "429482630036205568\n",
            "429482200552067073\n",
            "429482178645606400\n"
          ]
        }
      ]
    },
    {
      "cell_type": "code",
      "source": [
        "#Q7 I wrote my own code for this after staring at the given code for a while\n",
        "import json\n",
        "\n",
        "def task7():\n",
        "    tweets = []\n",
        "    with open(\"CrimeReport.txt\", \"r\") as f:\n",
        "        for line in f:\n",
        "            tweets.append(json.loads(line))\n",
        "\n",
        "    tweets.sort(key=lambda x: x[\"created_at\"], reverse=True)\n",
        "    recent_tweets = tweets[:10]\n",
        "\n",
        "    with open(\"task7.data\", \"w\") as f:\n",
        "        json.dump(recent_tweets, f)\n",
        "\n",
        "task7()"
      ],
      "metadata": {
        "id": "9I3FmZ7zzdLR"
      },
      "execution_count": 25,
      "outputs": []
    },
    {
      "cell_type": "code",
      "source": [
        "#Q8\n",
        "import json\n",
        "from datetime import datetime\n",
        "import os\n",
        "\n",
        "def task8(input_file, output_folder):\n",
        "    tweets_by_hour = {}\n",
        "    with open(input_file, \"r\") as f:\n",
        "        for line in f:\n",
        "            tweet = json.loads(line)\n",
        "            created_at = tweet['created_at']\n",
        "            date_time_obj = datetime.strptime(created_at, '%a %b %d %H:%M:%S %z %Y')\n",
        "            hour = date_time_obj.strftime(\"%m-%d-%Y-%H\")\n",
        "            if hour not in tweets_by_hour:\n",
        "                tweets_by_hour[hour] = []\n",
        "            tweets_by_hour[hour].append(tweet)\n",
        "    if not os.path.exists(output_folder):\n",
        "        os.makedirs(output_folder)\n",
        "    for hour, tweets in tweets_by_hour.items():\n",
        "        with open(f\"{output_folder}/{hour}.txt\", \"w\") as f:\n",
        "            json.dump(tweets, f)\n",
        "\n",
        "task8(\"CrimeReport.txt\", \"/content/task8-output\")"
      ],
      "metadata": {
        "id": "YGe7pKAUzeAW"
      },
      "execution_count": 26,
      "outputs": []
    }
  ]
}